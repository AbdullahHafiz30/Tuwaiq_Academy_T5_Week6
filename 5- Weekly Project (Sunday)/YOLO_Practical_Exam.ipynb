{
  "cells": [
    {
      "cell_type": "markdown",
      "id": "fd8284c7",
      "metadata": {
        "id": "fd8284c7"
      },
      "source": [
        "# Road Traffic Vehicle Counting Exam"
      ]
    },
    {
      "cell_type": "markdown",
      "id": "90e8c1a5",
      "metadata": {
        "id": "90e8c1a5"
      },
      "source": [
        "In this exam, you will use the YOLO (You Only Look Once) object detection model to analyze a video of road traffic. Your primary task is to count the number of vehicles exiting the road at each of the four exits (located at the top, bottom, left, and right of the frame). The video for this task is provided at `Datasets/YOLO_Exam_Video.mp4`.\n",
        "\n",
        "## Objectives\n",
        "- Load and process the video using OpenCV.\n",
        "- Utilize the YOLO model to detect vehicles in each frame.\n",
        "- Manipulate the video frames using OpenCV.\n",
        "- Track vehicles as they move across the video frames.\n",
        "- Count the number of vehicles exiting via the top street.\n",
        "- Count the number of vehicles exiting via the bottom street.\n",
        "- Count the number of vehicles exiting via the left street.\n",
        "- Count the number of vehicles exiting via the right street.\n"
      ]
    },
    {
      "cell_type": "markdown",
      "id": "c7269b0e",
      "metadata": {
        "id": "c7269b0e"
      },
      "source": [
        "## Setup Environment"
      ]
    },
    {
      "cell_type": "markdown",
      "id": "2fd3bce8",
      "metadata": {
        "id": "2fd3bce8"
      },
      "source": [
        "Before you begin, ensure you have the necessary libraries installed. You will need `opencv`, and `ultralytics` among others.\n",
        "If these are not installed, you should install them."
      ]
    },
    {
      "cell_type": "code",
      "source": [
        "!pip install ultralytics"
      ],
      "metadata": {
        "id": "Lx9bR5eGFuwr",
        "outputId": "5c048bbc-cd5c-4db9-e34b-71a280c78de2",
        "colab": {
          "base_uri": "https://localhost:8080/"
        }
      },
      "id": "Lx9bR5eGFuwr",
      "execution_count": 1,
      "outputs": [
        {
          "output_type": "stream",
          "name": "stdout",
          "text": [
            "Collecting ultralytics\n",
            "  Downloading ultralytics-8.2.85-py3-none-any.whl.metadata (41 kB)\n",
            "\u001b[2K     \u001b[90m━━━━━━━━━━━━━━━━━━━━━━━━━━━━━━━━━━━━━━━━\u001b[0m \u001b[32m41.8/41.8 kB\u001b[0m \u001b[31m760.8 kB/s\u001b[0m eta \u001b[36m0:00:00\u001b[0m\n",
            "\u001b[?25hRequirement already satisfied: numpy<2.0.0,>=1.23.0 in /usr/local/lib/python3.10/dist-packages (from ultralytics) (1.26.4)\n",
            "Requirement already satisfied: matplotlib>=3.3.0 in /usr/local/lib/python3.10/dist-packages (from ultralytics) (3.7.1)\n",
            "Requirement already satisfied: opencv-python>=4.6.0 in /usr/local/lib/python3.10/dist-packages (from ultralytics) (4.10.0.84)\n",
            "Requirement already satisfied: pillow>=7.1.2 in /usr/local/lib/python3.10/dist-packages (from ultralytics) (9.4.0)\n",
            "Requirement already satisfied: pyyaml>=5.3.1 in /usr/local/lib/python3.10/dist-packages (from ultralytics) (6.0.2)\n",
            "Requirement already satisfied: requests>=2.23.0 in /usr/local/lib/python3.10/dist-packages (from ultralytics) (2.32.3)\n",
            "Requirement already satisfied: scipy>=1.4.1 in /usr/local/lib/python3.10/dist-packages (from ultralytics) (1.13.1)\n",
            "Requirement already satisfied: torch>=1.8.0 in /usr/local/lib/python3.10/dist-packages (from ultralytics) (2.4.0+cu121)\n",
            "Requirement already satisfied: torchvision>=0.9.0 in /usr/local/lib/python3.10/dist-packages (from ultralytics) (0.19.0+cu121)\n",
            "Requirement already satisfied: tqdm>=4.64.0 in /usr/local/lib/python3.10/dist-packages (from ultralytics) (4.66.5)\n",
            "Requirement already satisfied: psutil in /usr/local/lib/python3.10/dist-packages (from ultralytics) (5.9.5)\n",
            "Requirement already satisfied: py-cpuinfo in /usr/local/lib/python3.10/dist-packages (from ultralytics) (9.0.0)\n",
            "Requirement already satisfied: pandas>=1.1.4 in /usr/local/lib/python3.10/dist-packages (from ultralytics) (2.1.4)\n",
            "Requirement already satisfied: seaborn>=0.11.0 in /usr/local/lib/python3.10/dist-packages (from ultralytics) (0.13.1)\n",
            "Collecting ultralytics-thop>=2.0.0 (from ultralytics)\n",
            "  Downloading ultralytics_thop-2.0.6-py3-none-any.whl.metadata (9.1 kB)\n",
            "Requirement already satisfied: contourpy>=1.0.1 in /usr/local/lib/python3.10/dist-packages (from matplotlib>=3.3.0->ultralytics) (1.2.1)\n",
            "Requirement already satisfied: cycler>=0.10 in /usr/local/lib/python3.10/dist-packages (from matplotlib>=3.3.0->ultralytics) (0.12.1)\n",
            "Requirement already satisfied: fonttools>=4.22.0 in /usr/local/lib/python3.10/dist-packages (from matplotlib>=3.3.0->ultralytics) (4.53.1)\n",
            "Requirement already satisfied: kiwisolver>=1.0.1 in /usr/local/lib/python3.10/dist-packages (from matplotlib>=3.3.0->ultralytics) (1.4.5)\n",
            "Requirement already satisfied: packaging>=20.0 in /usr/local/lib/python3.10/dist-packages (from matplotlib>=3.3.0->ultralytics) (24.1)\n",
            "Requirement already satisfied: pyparsing>=2.3.1 in /usr/local/lib/python3.10/dist-packages (from matplotlib>=3.3.0->ultralytics) (3.1.4)\n",
            "Requirement already satisfied: python-dateutil>=2.7 in /usr/local/lib/python3.10/dist-packages (from matplotlib>=3.3.0->ultralytics) (2.8.2)\n",
            "Requirement already satisfied: pytz>=2020.1 in /usr/local/lib/python3.10/dist-packages (from pandas>=1.1.4->ultralytics) (2024.1)\n",
            "Requirement already satisfied: tzdata>=2022.1 in /usr/local/lib/python3.10/dist-packages (from pandas>=1.1.4->ultralytics) (2024.1)\n",
            "Requirement already satisfied: charset-normalizer<4,>=2 in /usr/local/lib/python3.10/dist-packages (from requests>=2.23.0->ultralytics) (3.3.2)\n",
            "Requirement already satisfied: idna<4,>=2.5 in /usr/local/lib/python3.10/dist-packages (from requests>=2.23.0->ultralytics) (3.8)\n",
            "Requirement already satisfied: urllib3<3,>=1.21.1 in /usr/local/lib/python3.10/dist-packages (from requests>=2.23.0->ultralytics) (2.0.7)\n",
            "Requirement already satisfied: certifi>=2017.4.17 in /usr/local/lib/python3.10/dist-packages (from requests>=2.23.0->ultralytics) (2024.7.4)\n",
            "Requirement already satisfied: filelock in /usr/local/lib/python3.10/dist-packages (from torch>=1.8.0->ultralytics) (3.15.4)\n",
            "Requirement already satisfied: typing-extensions>=4.8.0 in /usr/local/lib/python3.10/dist-packages (from torch>=1.8.0->ultralytics) (4.12.2)\n",
            "Requirement already satisfied: sympy in /usr/local/lib/python3.10/dist-packages (from torch>=1.8.0->ultralytics) (1.13.2)\n",
            "Requirement already satisfied: networkx in /usr/local/lib/python3.10/dist-packages (from torch>=1.8.0->ultralytics) (3.3)\n",
            "Requirement already satisfied: jinja2 in /usr/local/lib/python3.10/dist-packages (from torch>=1.8.0->ultralytics) (3.1.4)\n",
            "Requirement already satisfied: fsspec in /usr/local/lib/python3.10/dist-packages (from torch>=1.8.0->ultralytics) (2024.6.1)\n",
            "Requirement already satisfied: six>=1.5 in /usr/local/lib/python3.10/dist-packages (from python-dateutil>=2.7->matplotlib>=3.3.0->ultralytics) (1.16.0)\n",
            "Requirement already satisfied: MarkupSafe>=2.0 in /usr/local/lib/python3.10/dist-packages (from jinja2->torch>=1.8.0->ultralytics) (2.1.5)\n",
            "Requirement already satisfied: mpmath<1.4,>=1.1.0 in /usr/local/lib/python3.10/dist-packages (from sympy->torch>=1.8.0->ultralytics) (1.3.0)\n",
            "Downloading ultralytics-8.2.85-py3-none-any.whl (872 kB)\n",
            "\u001b[2K   \u001b[90m━━━━━━━━━━━━━━━━━━━━━━━━━━━━━━━━━━━━━━━━\u001b[0m \u001b[32m872.3/872.3 kB\u001b[0m \u001b[31m6.7 MB/s\u001b[0m eta \u001b[36m0:00:00\u001b[0m\n",
            "\u001b[?25hDownloading ultralytics_thop-2.0.6-py3-none-any.whl (26 kB)\n",
            "Installing collected packages: ultralytics-thop, ultralytics\n",
            "Successfully installed ultralytics-8.2.85 ultralytics-thop-2.0.6\n"
          ]
        }
      ]
    },
    {
      "cell_type": "code",
      "execution_count": 30,
      "id": "e48a05c4",
      "metadata": {
        "vscode": {
          "languageId": "plaintext"
        },
        "id": "e48a05c4"
      },
      "outputs": [],
      "source": [
        "from ultralytics import YOLO, solutions\n",
        "import cv2\n",
        "import numpy as np\n",
        "import matplotlib.pyplot as plt"
      ]
    },
    {
      "cell_type": "code",
      "source": [
        "!unzip /tmp/Dataset.zip"
      ],
      "metadata": {
        "id": "eoQVoln-GcF0",
        "outputId": "7cc6447c-3045-4a76-e369-c3732f63a717",
        "colab": {
          "base_uri": "https://localhost:8080/"
        }
      },
      "id": "eoQVoln-GcF0",
      "execution_count": 3,
      "outputs": [
        {
          "output_type": "stream",
          "name": "stdout",
          "text": [
            "Archive:  /tmp/Dataset.zip\n",
            "  inflating: Dataset/YOLO_Model.pt   \n",
            "  inflating: Dataset/YOLO_Video.mp4  \n"
          ]
        }
      ]
    },
    {
      "cell_type": "markdown",
      "id": "a69c2ac2",
      "metadata": {
        "id": "a69c2ac2"
      },
      "source": [
        "## Load the YOLO Model"
      ]
    },
    {
      "cell_type": "markdown",
      "id": "145d70fc",
      "metadata": {
        "id": "145d70fc"
      },
      "source": [
        "You will first need to load the YOLO model, there is a custom model for this exam called `YOLO_Model.pt` under Datasets file ⚠️ PLEASE USE THIS MODEL AND DO NOT USE ANY OTHER MODEL ⚠️.\n",
        "Write the code to load the YOLO model below:"
      ]
    },
    {
      "cell_type": "code",
      "execution_count": 31,
      "id": "7e580e4a",
      "metadata": {
        "vscode": {
          "languageId": "plaintext"
        },
        "id": "7e580e4a"
      },
      "outputs": [],
      "source": [
        "model = YOLO(\"/content/Dataset/YOLO_Model.pt\")"
      ]
    },
    {
      "cell_type": "markdown",
      "id": "cf691ac8",
      "metadata": {
        "id": "cf691ac8"
      },
      "source": [
        "## Prepare the Video Capture"
      ]
    },
    {
      "cell_type": "markdown",
      "metadata": {
        "id": "Nw9RSvKCdonK"
      },
      "source": [
        "Create a variable to capture the video frames, you can use `cv2.VideoCapture()` to achive this."
      ],
      "id": "Nw9RSvKCdonK"
    },
    {
      "cell_type": "code",
      "execution_count": 151,
      "id": "81cfbca1",
      "metadata": {
        "vscode": {
          "languageId": "plaintext"
        },
        "id": "81cfbca1"
      },
      "outputs": [],
      "source": [
        "cap = cv2.VideoCapture(\"/content/Dataset/YOLO_Video.mp4\")\n",
        "assert cap.isOpened(), \"Error reading video file\""
      ]
    },
    {
      "cell_type": "markdown",
      "id": "48757309",
      "metadata": {
        "id": "48757309"
      },
      "source": [
        "## Get Video Information"
      ]
    },
    {
      "cell_type": "markdown",
      "id": "b4f5d5bc",
      "metadata": {
        "id": "b4f5d5bc"
      },
      "source": [
        "You can use `cv2` library to get these information fro the `VideoCapture()` variable you created to extract these information:\n",
        "* `height`: Video's height.\n",
        "* `width`: Video's width.\n",
        "* `fps`: Video's frames."
      ]
    },
    {
      "cell_type": "code",
      "execution_count": 152,
      "id": "cb8e5ceb",
      "metadata": {
        "vscode": {
          "languageId": "plaintext"
        },
        "id": "cb8e5ceb",
        "outputId": "06f59eea-c461-4741-9272-1380775be441",
        "colab": {
          "base_uri": "https://localhost:8080/"
        }
      },
      "outputs": [
        {
          "output_type": "execute_result",
          "data": {
            "text/plain": [
              "(1920, 1080, 29)"
            ]
          },
          "metadata": {},
          "execution_count": 152
        }
      ],
      "source": [
        "w, h, fps = (int(cap.get(x)) for x in (cv2.CAP_PROP_FRAME_WIDTH, cv2.CAP_PROP_FRAME_HEIGHT, cv2.CAP_PROP_FPS))\n",
        "w, h, fps"
      ]
    },
    {
      "cell_type": "code",
      "source": [
        "x, y = (w//2, h//2)\n",
        "x, y"
      ],
      "metadata": {
        "id": "QpsiZWx5XcE-",
        "outputId": "27e4df4a-7283-454b-9d1e-d263fa580087",
        "colab": {
          "base_uri": "https://localhost:8080/"
        }
      },
      "id": "QpsiZWx5XcE-",
      "execution_count": 153,
      "outputs": [
        {
          "output_type": "execute_result",
          "data": {
            "text/plain": [
              "(960, 540)"
            ]
          },
          "metadata": {},
          "execution_count": 153
        }
      ]
    },
    {
      "cell_type": "code",
      "source": [
        "x1, y1 = (x - 480, y - 170)\n",
        "x1, y1"
      ],
      "metadata": {
        "id": "eI1klgqsICf9",
        "outputId": "a892560e-b530-4ff2-a2a8-97e764bff258",
        "colab": {
          "base_uri": "https://localhost:8080/"
        }
      },
      "id": "eI1klgqsICf9",
      "execution_count": 154,
      "outputs": [
        {
          "output_type": "execute_result",
          "data": {
            "text/plain": [
              "(480, 370)"
            ]
          },
          "metadata": {},
          "execution_count": 154
        }
      ]
    },
    {
      "cell_type": "code",
      "source": [
        "x2, y2 = ((x1) + 200, (y1) +200)\n",
        "x2,y2"
      ],
      "metadata": {
        "id": "zudaGIGDIR-7",
        "outputId": "aec3a38b-6832-4e42-b8bd-3085ec2190c1",
        "colab": {
          "base_uri": "https://localhost:8080/"
        }
      },
      "id": "zudaGIGDIR-7",
      "execution_count": 155,
      "outputs": [
        {
          "output_type": "execute_result",
          "data": {
            "text/plain": [
              "(680, 570)"
            ]
          },
          "metadata": {},
          "execution_count": 155
        }
      ]
    },
    {
      "cell_type": "code",
      "source": [
        "x3,y3, = (x + 50), (y - 350),\n",
        "x4,y4 = (x3 + 200), (y3 + 150)\n",
        "x3,y3,x4,y4"
      ],
      "metadata": {
        "id": "bp33fAA8Qr7G",
        "outputId": "c430f05d-317d-4d38-8023-48a998955fc9",
        "colab": {
          "base_uri": "https://localhost:8080/"
        }
      },
      "id": "bp33fAA8Qr7G",
      "execution_count": 156,
      "outputs": [
        {
          "output_type": "execute_result",
          "data": {
            "text/plain": [
              "(1010, 190, 1210, 340)"
            ]
          },
          "metadata": {},
          "execution_count": 156
        }
      ]
    },
    {
      "cell_type": "code",
      "source": [
        "x5, y5 = (x + 400),(y)\n",
        "x6, y6 = (x5 + 200),(y5 + 200)\n",
        "x5, y5, x6, y6"
      ],
      "metadata": {
        "id": "DA67h6_gWvNF",
        "outputId": "18bc6a5e-a661-4232-d726-7f5418022738",
        "colab": {
          "base_uri": "https://localhost:8080/"
        }
      },
      "id": "DA67h6_gWvNF",
      "execution_count": 157,
      "outputs": [
        {
          "output_type": "execute_result",
          "data": {
            "text/plain": [
              "(1360, 540, 1560, 740)"
            ]
          },
          "metadata": {},
          "execution_count": 157
        }
      ]
    },
    {
      "cell_type": "code",
      "source": [
        "x7, y7 = (x-350), (y + 350)\n",
        "x8, y8 = (x7 + 200), (y7 + 150)\n",
        "x7, y7, x8, y8"
      ],
      "metadata": {
        "id": "g1XvzdXcWu3t",
        "outputId": "564adba1-c23f-488e-fe8e-1ef3d2f74cfa",
        "colab": {
          "base_uri": "https://localhost:8080/"
        }
      },
      "id": "g1XvzdXcWu3t",
      "execution_count": 158,
      "outputs": [
        {
          "output_type": "execute_result",
          "data": {
            "text/plain": [
              "(610, 890, 810, 1040)"
            ]
          },
          "metadata": {},
          "execution_count": 158
        }
      ]
    },
    {
      "cell_type": "markdown",
      "id": "3f241495",
      "metadata": {
        "id": "3f241495"
      },
      "source": [
        "## Prepare Video Writer to Store the Output"
      ]
    },
    {
      "cell_type": "markdown",
      "id": "9ef61a34",
      "metadata": {
        "id": "9ef61a34"
      },
      "source": [
        "Create a variable that uses `cv2.VideoCapture()` to save the video with the bounding boxes, specified Region of Interest rectangle (ROI) and the counted vehicles on each sides. You will need to make the video with the same `fps`, `width`, `height`, and specify the codec and output path of the video."
      ]
    },
    {
      "cell_type": "code",
      "execution_count": 159,
      "id": "449562c2",
      "metadata": {
        "vscode": {
          "languageId": "plaintext"
        },
        "id": "449562c2"
      },
      "outputs": [],
      "source": [
        "region_points = [(x1,y1),(x2,y1),(x2,y2),(x1,y2)]\n",
        "region_points1 = [(x3,y3),(x4,y3),(x4,y4),(x3,y4)]\n",
        "region_points2 = [(x5,y5),(x6,y5),(x6,y6),(x5,y6)]\n",
        "region_points3 = [(x7,y7),(x8,y7),(x8,y8),(x7,y8)]\n",
        "# regions = [\n",
        "#     {\"name\": \"Region 1\", \"coords\": [(x1, y1), (x2, y2)]},\n",
        "#     {\"name\": \"Region 2\", \"coords\": [(x3, y3), (x4, y4)]},\n",
        "#     {\"name\": \"Region 3\", \"coords\": [(x5, y5), (x6, y6)]},\n",
        "#     {\"name\": \"Region 4\", \"coords\": [(x7, y7), (x8, y8)]}\n",
        "# ]\n",
        "video_writer = cv2.VideoWriter(\"/content/Dataset/object_counting_output.avi\", cv2.VideoWriter_fourcc(*\"mp4v\"), fps, (w, h))"
      ]
    },
    {
      "cell_type": "markdown",
      "id": "31e882a2",
      "metadata": {
        "id": "31e882a2"
      },
      "source": [
        "## Expermint to get the `(x1, y1, x2, y2)` of the ROI"
      ]
    },
    {
      "cell_type": "markdown",
      "id": "3b6e6d97",
      "metadata": {
        "id": "3b6e6d97"
      },
      "source": [
        "### Hint\n",
        "When defining the Regions of Interest (ROIs) for detecting vehicles exiting the road, consider the coordinates that outline the relevant areas. These coordinates can be specified as `(x1, y1, x2, y2)`, where `(x1, y1)` is the top-left corner and `(x2, y2)` is the bottom-right corner of the rectangle.\n",
        "\n",
        "Experiment with different coordinates to accurately cover the streets where vehicles exit. Visualize these ROIs by drawing rectangles on a frame of the video and adjust the coordinates as needed until you capture the desired areas effectively."
      ]
    },
    {
      "cell_type": "code",
      "execution_count": 160,
      "id": "68f46e81",
      "metadata": {
        "vscode": {
          "languageId": "plaintext"
        },
        "id": "68f46e81",
        "outputId": "28f2d8e7-7d73-4b25-92a0-596f8d533100",
        "colab": {
          "base_uri": "https://localhost:8080/"
        }
      },
      "outputs": [
        {
          "output_type": "stream",
          "name": "stdout",
          "text": [
            "WARNING ⚠️ Environment does not support cv2.imshow() or PIL Image.show()\n",
            "\n",
            "Polygon Counter Initiated.\n",
            "WARNING ⚠️ Environment does not support cv2.imshow() or PIL Image.show()\n",
            "\n",
            "Polygon Counter Initiated.\n",
            "WARNING ⚠️ Environment does not support cv2.imshow() or PIL Image.show()\n",
            "\n",
            "Polygon Counter Initiated.\n",
            "WARNING ⚠️ Environment does not support cv2.imshow() or PIL Image.show()\n",
            "\n",
            "Polygon Counter Initiated.\n"
          ]
        }
      ],
      "source": [
        "counter = solutions.ObjectCounter(\n",
        "    view_img=True,\n",
        "    count_reg_color=(144,238,144),\n",
        "    count_txt_color=(144,238,144),\n",
        "    count_bg_color=(255,255,255),\n",
        "    reg_pts=region_points,\n",
        "    names=model.names,\n",
        "    draw_tracks=True,\n",
        "    line_thickness=2,\n",
        ")\n",
        "\n",
        "counter1 = solutions.ObjectCounter(\n",
        "    view_img=True,\n",
        "    count_reg_color=(144,238,144),\n",
        "    count_txt_color=(144,238,144),\n",
        "    count_bg_color=(255,255,255),\n",
        "    reg_pts=region_points1,\n",
        "    names=model.names,\n",
        "    draw_tracks=True,\n",
        "    line_thickness=2,\n",
        ")\n",
        "\n",
        "counter2 = solutions.ObjectCounter(\n",
        "    view_img=True,\n",
        "    count_reg_color=(144,238,144),\n",
        "    count_txt_color=(144,238,144),\n",
        "    count_bg_color=(255,255,255),\n",
        "    reg_pts=region_points2,\n",
        "    names=model.names,\n",
        "    draw_tracks=True,\n",
        "    line_thickness=2,\n",
        ")\n",
        "\n",
        "counter3 = solutions.ObjectCounter(\n",
        "    view_img=True,\n",
        "    count_reg_color=(144,238,144),\n",
        "    count_txt_color=(144,238,144),\n",
        "    count_bg_color=(255,255,255),\n",
        "    reg_pts=region_points3,\n",
        "    names=model.names,\n",
        "    draw_tracks=True,\n",
        "    line_thickness=2,\n",
        ")"
      ]
    },
    {
      "cell_type": "markdown",
      "id": "067dbc12",
      "metadata": {
        "id": "067dbc12"
      },
      "source": [
        "## Process Video Frames and Identify Vehicles Left the Road Form Each Street"
      ]
    },
    {
      "cell_type": "markdown",
      "id": "aa695d88",
      "metadata": {
        "id": "aa695d88"
      },
      "source": [
        "For each frame in the video, use the YOLO model to detect and track vehicles. You will need to write a loop that processes each frame and applies the YOLO model.\n",
        "\n",
        "In each frame, after detecting the vehicles, determine whether they exited the road via the top, bottom, left, or right street. You can use the positions of the bounding boxes provided by YOLO to do this.\n",
        "\n",
        "- The video should display bounding boxes around the detected objects.\n",
        "- The video should display your name on the top.\n",
        "- It should display the calculated center of each vehicle.\n",
        "- The video should display the confidence score, alongside the object ID and class ID of each detected and tracked object.\n",
        "- The video should display the rectangles representing the regions where you count the vehicles that have crossed and exited.\n",
        "- The video should display the number of vehicles that exited via the top street.\n",
        "- The video should display the number of vehicles that exited via the bottom street.\n",
        "- The video should display the number of vehicles that exited via the left street.\n",
        "- The video should display the number of vehicles that exited via the right street."
      ]
    },
    {
      "cell_type": "code",
      "execution_count": null,
      "id": "877d1d56",
      "metadata": {
        "vscode": {
          "languageId": "plaintext"
        },
        "id": "877d1d56",
        "outputId": "a668135f-5d2b-4447-d285-ff049b630cfe",
        "colab": {
          "base_uri": "https://localhost:8080/"
        }
      },
      "outputs": [
        {
          "output_type": "stream",
          "name": "stdout",
          "text": [
            "\n",
            "0: 384x640 2 buss, 53 cars, 2 trucks, 2 vans, 2522.5ms\n",
            "Speed: 4.6ms preprocess, 2522.5ms inference, 1.2ms postprocess per image at shape (1, 3, 384, 640)\n",
            "\n",
            "0: 384x640 2 buss, 83 cars, 2 trucks, 2 vans, 2597.3ms\n",
            "Speed: 5.0ms preprocess, 2597.3ms inference, 1.3ms postprocess per image at shape (1, 3, 384, 640)\n",
            "\n",
            "0: 384x640 2 buss, 83 cars, 2 trucks, 2 vans, 3928.6ms\n",
            "Speed: 5.4ms preprocess, 3928.6ms inference, 1.2ms postprocess per image at shape (1, 3, 384, 640)\n",
            "\n",
            "0: 384x640 2 buss, 83 cars, 2 trucks, 2 vans, 2547.6ms\n",
            "Speed: 3.8ms preprocess, 2547.6ms inference, 1.3ms postprocess per image at shape (1, 3, 384, 640)\n",
            "\n",
            "0: 384x640 2 buss, 83 cars, 2 trucks, 2 vans, 2603.8ms\n",
            "Speed: 5.7ms preprocess, 2603.8ms inference, 1.4ms postprocess per image at shape (1, 3, 384, 640)\n",
            "\n",
            "0: 384x640 2 buss, 83 cars, 2 trucks, 2 vans, 2533.3ms\n",
            "Speed: 4.1ms preprocess, 2533.3ms inference, 1.1ms postprocess per image at shape (1, 3, 384, 640)\n",
            "\n",
            "0: 384x640 2 buss, 83 cars, 2 trucks, 2 vans, 3319.3ms\n",
            "Speed: 4.4ms preprocess, 3319.3ms inference, 1.6ms postprocess per image at shape (1, 3, 384, 640)\n",
            "\n",
            "0: 384x640 2 buss, 84 cars, 2 trucks, 2 vans, 2996.3ms\n",
            "Speed: 4.4ms preprocess, 2996.3ms inference, 1.7ms postprocess per image at shape (1, 3, 384, 640)\n",
            "\n",
            "0: 384x640 2 buss, 85 cars, 2 trucks, 2 vans, 2543.6ms\n",
            "Speed: 3.9ms preprocess, 2543.6ms inference, 1.3ms postprocess per image at shape (1, 3, 384, 640)\n",
            "\n",
            "0: 384x640 2 buss, 85 cars, 2 trucks, 2 vans, 2624.6ms\n",
            "Speed: 7.3ms preprocess, 2624.6ms inference, 1.2ms postprocess per image at shape (1, 3, 384, 640)\n",
            "\n",
            "0: 384x640 2 buss, 85 cars, 2 trucks, 2 vans, 2609.6ms\n",
            "Speed: 4.6ms preprocess, 2609.6ms inference, 1.6ms postprocess per image at shape (1, 3, 384, 640)\n",
            "\n",
            "0: 384x640 2 buss, 85 cars, 2 trucks, 2 vans, 3643.1ms\n",
            "Speed: 4.5ms preprocess, 3643.1ms inference, 1.2ms postprocess per image at shape (1, 3, 384, 640)\n",
            "\n",
            "0: 384x640 2 buss, 84 cars, 2 trucks, 3 vans, 2546.3ms\n",
            "Speed: 4.4ms preprocess, 2546.3ms inference, 1.2ms postprocess per image at shape (1, 3, 384, 640)\n",
            "\n",
            "0: 384x640 2 buss, 84 cars, 2 trucks, 3 vans, 2584.3ms\n",
            "Speed: 4.4ms preprocess, 2584.3ms inference, 1.4ms postprocess per image at shape (1, 3, 384, 640)\n",
            "\n",
            "0: 384x640 2 buss, 84 cars, 2 trucks, 3 vans, 2518.0ms\n",
            "Speed: 3.9ms preprocess, 2518.0ms inference, 1.2ms postprocess per image at shape (1, 3, 384, 640)\n",
            "\n",
            "0: 384x640 2 buss, 83 cars, 2 trucks, 4 vans, 3812.7ms\n",
            "Speed: 4.9ms preprocess, 3812.7ms inference, 1.7ms postprocess per image at shape (1, 3, 384, 640)\n",
            "\n",
            "0: 384x640 2 buss, 83 cars, 2 trucks, 4 vans, 2606.7ms\n",
            "Speed: 3.9ms preprocess, 2606.7ms inference, 1.3ms postprocess per image at shape (1, 3, 384, 640)\n",
            "\n",
            "0: 384x640 2 buss, 83 cars, 2 trucks, 4 vans, 2568.6ms\n",
            "Speed: 4.9ms preprocess, 2568.6ms inference, 1.3ms postprocess per image at shape (1, 3, 384, 640)\n",
            "\n",
            "0: 384x640 2 buss, 83 cars, 1 truck, 4 vans, 2586.3ms\n",
            "Speed: 4.1ms preprocess, 2586.3ms inference, 1.1ms postprocess per image at shape (1, 3, 384, 640)\n",
            "\n",
            "0: 384x640 2 buss, 85 cars, 1 truck, 3 vans, 3185.6ms\n",
            "Speed: 4.0ms preprocess, 3185.6ms inference, 1.7ms postprocess per image at shape (1, 3, 384, 640)\n",
            "\n",
            "0: 384x640 2 buss, 85 cars, 1 truck, 3 vans, 3114.0ms\n",
            "Speed: 5.6ms preprocess, 3114.0ms inference, 1.9ms postprocess per image at shape (1, 3, 384, 640)\n",
            "\n",
            "0: 384x640 2 buss, 85 cars, 1 truck, 3 vans, 2522.9ms\n",
            "Speed: 4.3ms preprocess, 2522.9ms inference, 1.2ms postprocess per image at shape (1, 3, 384, 640)\n",
            "\n",
            "0: 384x640 2 buss, 86 cars, 1 truck, 2 vans, 2588.2ms\n",
            "Speed: 4.7ms preprocess, 2588.2ms inference, 1.2ms postprocess per image at shape (1, 3, 384, 640)\n",
            "\n",
            "0: 384x640 2 buss, 86 cars, 1 truck, 2 vans, 2695.3ms\n",
            "Speed: 4.4ms preprocess, 2695.3ms inference, 1.7ms postprocess per image at shape (1, 3, 384, 640)\n",
            "\n",
            "0: 384x640 2 buss, 85 cars, 2 trucks, 2 vans, 3528.4ms\n",
            "Speed: 3.8ms preprocess, 3528.4ms inference, 1.2ms postprocess per image at shape (1, 3, 384, 640)\n",
            "\n",
            "0: 384x640 2 buss, 85 cars, 2 trucks, 2 vans, 2563.2ms\n",
            "Speed: 4.8ms preprocess, 2563.2ms inference, 1.3ms postprocess per image at shape (1, 3, 384, 640)\n",
            "\n",
            "0: 384x640 2 buss, 85 cars, 2 trucks, 2 vans, 2535.4ms\n",
            "Speed: 5.3ms preprocess, 2535.4ms inference, 1.3ms postprocess per image at shape (1, 3, 384, 640)\n",
            "\n",
            "0: 384x640 2 buss, 85 cars, 1 truck, 3 vans, 2595.9ms\n",
            "Speed: 4.4ms preprocess, 2595.9ms inference, 1.2ms postprocess per image at shape (1, 3, 384, 640)\n",
            "\n",
            "0: 384x640 2 buss, 84 cars, 1 truck, 4 vans, 3785.0ms\n",
            "Speed: 4.5ms preprocess, 3785.0ms inference, 1.7ms postprocess per image at shape (1, 3, 384, 640)\n",
            "\n",
            "0: 384x640 3 buss, 83 cars, 1 truck, 4 vans, 2519.2ms\n",
            "Speed: 4.3ms preprocess, 2519.2ms inference, 1.3ms postprocess per image at shape (1, 3, 384, 640)\n",
            "\n",
            "0: 384x640 4 buss, 82 cars, 1 truck, 4 vans, 2555.5ms\n",
            "Speed: 4.5ms preprocess, 2555.5ms inference, 1.2ms postprocess per image at shape (1, 3, 384, 640)\n",
            "\n",
            "0: 384x640 4 buss, 81 cars, 1 truck, 5 vans, 2568.1ms\n",
            "Speed: 3.7ms preprocess, 2568.1ms inference, 1.3ms postprocess per image at shape (1, 3, 384, 640)\n",
            "\n",
            "0: 384x640 3 buss, 82 cars, 1 truck, 5 vans, 3203.3ms\n",
            "Speed: 4.9ms preprocess, 3203.3ms inference, 2.0ms postprocess per image at shape (1, 3, 384, 640)\n",
            "\n",
            "0: 384x640 3 buss, 82 cars, 1 truck, 5 vans, 3030.6ms\n",
            "Speed: 4.3ms preprocess, 3030.6ms inference, 1.3ms postprocess per image at shape (1, 3, 384, 640)\n",
            "\n",
            "0: 384x640 4 buss, 81 cars, 1 truck, 5 vans, 2537.3ms\n",
            "Speed: 4.1ms preprocess, 2537.3ms inference, 1.3ms postprocess per image at shape (1, 3, 384, 640)\n",
            "\n",
            "0: 384x640 4 buss, 81 cars, 1 truck, 5 vans, 2567.4ms\n",
            "Speed: 4.3ms preprocess, 2567.4ms inference, 1.8ms postprocess per image at shape (1, 3, 384, 640)\n",
            "\n",
            "0: 384x640 3 buss, 81 cars, 2 trucks, 5 vans, 2671.9ms\n",
            "Speed: 4.3ms preprocess, 2671.9ms inference, 1.5ms postprocess per image at shape (1, 3, 384, 640)\n",
            "\n",
            "0: 384x640 3 buss, 83 cars, 2 trucks, 3 vans, 3640.3ms\n",
            "Speed: 4.3ms preprocess, 3640.3ms inference, 1.4ms postprocess per image at shape (1, 3, 384, 640)\n",
            "\n",
            "0: 384x640 3 buss, 82 cars, 2 trucks, 4 vans, 2612.1ms\n",
            "Speed: 4.3ms preprocess, 2612.1ms inference, 1.2ms postprocess per image at shape (1, 3, 384, 640)\n",
            "\n",
            "0: 384x640 4 buss, 82 cars, 1 truck, 4 vans, 2556.1ms\n",
            "Speed: 6.7ms preprocess, 2556.1ms inference, 1.1ms postprocess per image at shape (1, 3, 384, 640)\n",
            "\n",
            "0: 384x640 3 buss, 84 cars, 1 truck, 3 vans, 2483.6ms\n",
            "Speed: 5.3ms preprocess, 2483.6ms inference, 1.2ms postprocess per image at shape (1, 3, 384, 640)\n",
            "\n",
            "0: 384x640 3 buss, 83 cars, 2 trucks, 3 vans, 3812.3ms\n",
            "Speed: 5.4ms preprocess, 3812.3ms inference, 1.6ms postprocess per image at shape (1, 3, 384, 640)\n",
            "\n",
            "0: 384x640 4 buss, 83 cars, 1 truck, 3 vans, 2511.6ms\n",
            "Speed: 4.0ms preprocess, 2511.6ms inference, 1.1ms postprocess per image at shape (1, 3, 384, 640)\n",
            "\n",
            "0: 384x640 4 buss, 83 cars, 1 truck, 3 vans, 2602.9ms\n",
            "Speed: 4.3ms preprocess, 2602.9ms inference, 1.3ms postprocess per image at shape (1, 3, 384, 640)\n",
            "\n",
            "0: 384x640 3 buss, 84 cars, 1 truck, 3 vans, 2576.8ms\n",
            "Speed: 3.9ms preprocess, 2576.8ms inference, 1.3ms postprocess per image at shape (1, 3, 384, 640)\n",
            "\n",
            "0: 384x640 3 buss, 84 cars, 1 truck, 3 vans, 3296.3ms\n",
            "Speed: 4.5ms preprocess, 3296.3ms inference, 1.5ms postprocess per image at shape (1, 3, 384, 640)\n",
            "\n",
            "0: 384x640 3 buss, 83 cars, 2 trucks, 3 vans, 2926.8ms\n",
            "Speed: 4.2ms preprocess, 2926.8ms inference, 1.3ms postprocess per image at shape (1, 3, 384, 640)\n",
            "\n",
            "0: 384x640 3 buss, 83 cars, 2 trucks, 3 vans, 2638.0ms\n",
            "Speed: 4.9ms preprocess, 2638.0ms inference, 1.2ms postprocess per image at shape (1, 3, 384, 640)\n",
            "\n",
            "0: 384x640 3 buss, 83 cars, 2 trucks, 3 vans, 2543.4ms\n",
            "Speed: 4.8ms preprocess, 2543.4ms inference, 1.2ms postprocess per image at shape (1, 3, 384, 640)\n",
            "\n",
            "0: 384x640 3 buss, 83 cars, 2 trucks, 3 vans, 2775.0ms\n",
            "Speed: 4.3ms preprocess, 2775.0ms inference, 1.5ms postprocess per image at shape (1, 3, 384, 640)\n",
            "\n",
            "0: 384x640 3 buss, 82 cars, 2 trucks, 4 vans, 3571.4ms\n",
            "Speed: 12.8ms preprocess, 3571.4ms inference, 1.3ms postprocess per image at shape (1, 3, 384, 640)\n",
            "\n",
            "0: 384x640 3 buss, 82 cars, 2 trucks, 4 vans, 2583.9ms\n",
            "Speed: 4.5ms preprocess, 2583.9ms inference, 1.3ms postprocess per image at shape (1, 3, 384, 640)\n",
            "\n",
            "0: 384x640 3 buss, 82 cars, 2 trucks, 4 vans, 2579.7ms\n",
            "Speed: 4.6ms preprocess, 2579.7ms inference, 1.2ms postprocess per image at shape (1, 3, 384, 640)\n",
            "\n",
            "0: 384x640 4 buss, 81 cars, 2 trucks, 4 vans, 2539.2ms\n",
            "Speed: 4.4ms preprocess, 2539.2ms inference, 1.1ms postprocess per image at shape (1, 3, 384, 640)\n",
            "\n",
            "0: 384x640 4 buss, 81 cars, 2 trucks, 4 vans, 3851.1ms\n",
            "Speed: 4.4ms preprocess, 3851.1ms inference, 1.3ms postprocess per image at shape (1, 3, 384, 640)\n",
            "\n",
            "0: 384x640 3 buss, 85 cars, 2 trucks, 2 vans, 2529.7ms\n",
            "Speed: 4.2ms preprocess, 2529.7ms inference, 1.3ms postprocess per image at shape (1, 3, 384, 640)\n",
            "\n",
            "0: 384x640 3 buss, 84 cars, 2 trucks, 3 vans, 2603.7ms\n",
            "Speed: 4.2ms preprocess, 2603.7ms inference, 1.7ms postprocess per image at shape (1, 3, 384, 640)\n",
            "\n",
            "0: 384x640 3 buss, 84 cars, 3 trucks, 2 vans, 2501.9ms\n",
            "Speed: 3.9ms preprocess, 2501.9ms inference, 1.6ms postprocess per image at shape (1, 3, 384, 640)\n",
            "\n",
            "0: 384x640 3 buss, 84 cars, 2 trucks, 3 vans, 3436.1ms\n",
            "Speed: 6.0ms preprocess, 3436.1ms inference, 1.6ms postprocess per image at shape (1, 3, 384, 640)\n",
            "\n",
            "0: 384x640 3 buss, 85 cars, 2 trucks, 2 vans, 2843.1ms\n",
            "Speed: 4.1ms preprocess, 2843.1ms inference, 1.2ms postprocess per image at shape (1, 3, 384, 640)\n",
            "\n",
            "0: 384x640 3 buss, 83 cars, 2 trucks, 3 vans, 2511.4ms\n",
            "Speed: 6.0ms preprocess, 2511.4ms inference, 1.2ms postprocess per image at shape (1, 3, 384, 640)\n",
            "\n",
            "0: 384x640 4 buss, 84 cars, 1 truck, 3 vans, 2524.8ms\n",
            "Speed: 4.0ms preprocess, 2524.8ms inference, 1.1ms postprocess per image at shape (1, 3, 384, 640)\n",
            "\n",
            "0: 384x640 3 buss, 84 cars, 2 trucks, 3 vans, 2773.1ms\n",
            "Speed: 3.8ms preprocess, 2773.1ms inference, 1.8ms postprocess per image at shape (1, 3, 384, 640)\n",
            "\n",
            "0: 384x640 3 buss, 84 cars, 2 trucks, 3 vans, 3525.1ms\n",
            "Speed: 4.1ms preprocess, 3525.1ms inference, 1.3ms postprocess per image at shape (1, 3, 384, 640)\n",
            "\n",
            "0: 384x640 3 buss, 85 cars, 1 truck, 3 vans, 2570.7ms\n",
            "Speed: 4.5ms preprocess, 2570.7ms inference, 1.2ms postprocess per image at shape (1, 3, 384, 640)\n",
            "\n",
            "0: 384x640 3 buss, 86 cars, 2 trucks, 3 vans, 2628.4ms\n",
            "Speed: 3.9ms preprocess, 2628.4ms inference, 1.4ms postprocess per image at shape (1, 3, 384, 640)\n",
            "\n",
            "0: 384x640 3 buss, 87 cars, 1 truck, 3 vans, 2633.5ms\n",
            "Speed: 4.0ms preprocess, 2633.5ms inference, 1.3ms postprocess per image at shape (1, 3, 384, 640)\n",
            "\n",
            "0: 384x640 3 buss, 87 cars, 1 truck, 3 vans, 3921.8ms\n",
            "Speed: 4.3ms preprocess, 3921.8ms inference, 1.5ms postprocess per image at shape (1, 3, 384, 640)\n",
            "\n",
            "0: 384x640 3 buss, 86 cars, 2 trucks, 3 vans, 2563.3ms\n",
            "Speed: 5.0ms preprocess, 2563.3ms inference, 1.2ms postprocess per image at shape (1, 3, 384, 640)\n",
            "\n",
            "0: 384x640 3 buss, 86 cars, 2 trucks, 3 vans, 2527.9ms\n",
            "Speed: 4.2ms preprocess, 2527.9ms inference, 1.3ms postprocess per image at shape (1, 3, 384, 640)\n",
            "\n",
            "0: 384x640 3 buss, 86 cars, 2 trucks, 3 vans, 2592.2ms\n",
            "Speed: 6.0ms preprocess, 2592.2ms inference, 1.2ms postprocess per image at shape (1, 3, 384, 640)\n",
            "\n",
            "0: 384x640 3 buss, 86 cars, 2 trucks, 3 vans, 3515.5ms\n",
            "Speed: 3.2ms preprocess, 3515.5ms inference, 1.9ms postprocess per image at shape (1, 3, 384, 640)\n",
            "\n",
            "0: 384x640 3 buss, 86 cars, 2 trucks, 3 vans, 2852.6ms\n",
            "Speed: 3.9ms preprocess, 2852.6ms inference, 1.4ms postprocess per image at shape (1, 3, 384, 640)\n",
            "\n",
            "0: 384x640 3 buss, 86 cars, 2 trucks, 3 vans, 2559.6ms\n",
            "Speed: 3.7ms preprocess, 2559.6ms inference, 1.3ms postprocess per image at shape (1, 3, 384, 640)\n",
            "\n",
            "0: 384x640 3 buss, 86 cars, 2 trucks, 3 vans, 2622.7ms\n",
            "Speed: 4.9ms preprocess, 2622.7ms inference, 1.3ms postprocess per image at shape (1, 3, 384, 640)\n",
            "\n",
            "0: 384x640 3 buss, 86 cars, 2 trucks, 3 vans, 2829.2ms\n",
            "Speed: 4.3ms preprocess, 2829.2ms inference, 1.5ms postprocess per image at shape (1, 3, 384, 640)\n",
            "\n",
            "0: 384x640 4 buss, 86 cars, 1 truck, 3 vans, 3341.7ms\n",
            "Speed: 4.1ms preprocess, 3341.7ms inference, 1.1ms postprocess per image at shape (1, 3, 384, 640)\n",
            "\n",
            "0: 384x640 3 buss, 86 cars, 2 trucks, 3 vans, 2478.2ms\n",
            "Speed: 3.8ms preprocess, 2478.2ms inference, 1.9ms postprocess per image at shape (1, 3, 384, 640)\n",
            "\n",
            "0: 384x640 3 buss, 88 cars, 2 trucks, 2 vans, 2512.2ms\n",
            "Speed: 4.1ms preprocess, 2512.2ms inference, 1.3ms postprocess per image at shape (1, 3, 384, 640)\n",
            "\n",
            "0: 384x640 3 buss, 87 cars, 2 trucks, 3 vans, 2546.6ms\n",
            "Speed: 4.2ms preprocess, 2546.6ms inference, 1.5ms postprocess per image at shape (1, 3, 384, 640)\n",
            "\n",
            "0: 384x640 3 buss, 89 cars, 2 trucks, 2 vans, 3884.4ms\n",
            "Speed: 6.0ms preprocess, 3884.4ms inference, 1.4ms postprocess per image at shape (1, 3, 384, 640)\n",
            "\n",
            "0: 384x640 3 buss, 88 cars, 2 trucks, 3 vans, 2584.0ms\n",
            "Speed: 3.9ms preprocess, 2584.0ms inference, 1.2ms postprocess per image at shape (1, 3, 384, 640)\n",
            "\n",
            "0: 384x640 3 buss, 88 cars, 2 trucks, 3 vans, 2478.4ms\n",
            "Speed: 4.0ms preprocess, 2478.4ms inference, 1.1ms postprocess per image at shape (1, 3, 384, 640)\n",
            "\n",
            "0: 384x640 3 buss, 88 cars, 2 trucks, 3 vans, 2549.3ms\n",
            "Speed: 4.7ms preprocess, 2549.3ms inference, 1.4ms postprocess per image at shape (1, 3, 384, 640)\n",
            "\n",
            "0: 384x640 3 buss, 88 cars, 2 trucks, 3 vans, 3452.5ms\n",
            "Speed: 4.2ms preprocess, 3452.5ms inference, 1.7ms postprocess per image at shape (1, 3, 384, 640)\n",
            "\n",
            "0: 384x640 3 buss, 89 cars, 2 trucks, 3 vans, 2896.2ms\n",
            "Speed: 6.2ms preprocess, 2896.2ms inference, 1.4ms postprocess per image at shape (1, 3, 384, 640)\n",
            "\n",
            "0: 384x640 3 buss, 89 cars, 2 trucks, 3 vans, 2546.4ms\n",
            "Speed: 5.7ms preprocess, 2546.4ms inference, 1.4ms postprocess per image at shape (1, 3, 384, 640)\n",
            "\n",
            "0: 384x640 3 buss, 88 cars, 2 trucks, 3 vans, 2618.5ms\n",
            "Speed: 4.2ms preprocess, 2618.5ms inference, 1.2ms postprocess per image at shape (1, 3, 384, 640)\n",
            "\n",
            "0: 384x640 3 buss, 88 cars, 2 trucks, 3 vans, 2976.7ms\n",
            "Speed: 4.5ms preprocess, 2976.7ms inference, 1.5ms postprocess per image at shape (1, 3, 384, 640)\n",
            "\n",
            "0: 384x640 3 buss, 88 cars, 2 trucks, 3 vans, 3374.8ms\n",
            "Speed: 5.2ms preprocess, 3374.8ms inference, 1.3ms postprocess per image at shape (1, 3, 384, 640)\n",
            "\n",
            "0: 384x640 3 buss, 87 cars, 2 trucks, 3 vans, 2555.9ms\n",
            "Speed: 6.7ms preprocess, 2555.9ms inference, 1.7ms postprocess per image at shape (1, 3, 384, 640)\n",
            "\n",
            "0: 384x640 3 buss, 87 cars, 2 trucks, 3 vans, 2505.8ms\n",
            "Speed: 4.0ms preprocess, 2505.8ms inference, 1.3ms postprocess per image at shape (1, 3, 384, 640)\n",
            "\n",
            "0: 384x640 3 buss, 87 cars, 2 trucks, 3 vans, 2618.4ms\n",
            "Speed: 4.2ms preprocess, 2618.4ms inference, 1.2ms postprocess per image at shape (1, 3, 384, 640)\n",
            "\n",
            "0: 384x640 3 buss, 87 cars, 2 trucks, 3 vans, 3871.7ms\n",
            "Speed: 4.5ms preprocess, 3871.7ms inference, 1.2ms postprocess per image at shape (1, 3, 384, 640)\n",
            "\n",
            "0: 384x640 3 buss, 87 cars, 2 trucks, 3 vans, 2506.6ms\n",
            "Speed: 3.9ms preprocess, 2506.6ms inference, 1.6ms postprocess per image at shape (1, 3, 384, 640)\n",
            "\n",
            "0: 384x640 3 buss, 87 cars, 2 trucks, 3 vans, 2470.4ms\n",
            "Speed: 3.7ms preprocess, 2470.4ms inference, 1.1ms postprocess per image at shape (1, 3, 384, 640)\n",
            "\n",
            "0: 384x640 3 buss, 88 cars, 2 trucks, 3 vans, 2571.4ms\n",
            "Speed: 3.7ms preprocess, 2571.4ms inference, 1.4ms postprocess per image at shape (1, 3, 384, 640)\n",
            "\n",
            "0: 384x640 3 buss, 88 cars, 2 trucks, 3 vans, 3246.0ms\n",
            "Speed: 4.2ms preprocess, 3246.0ms inference, 1.6ms postprocess per image at shape (1, 3, 384, 640)\n",
            "\n",
            "0: 384x640 3 buss, 88 cars, 2 trucks, 3 vans, 2978.2ms\n",
            "Speed: 5.4ms preprocess, 2978.2ms inference, 1.3ms postprocess per image at shape (1, 3, 384, 640)\n",
            "\n",
            "0: 384x640 3 buss, 88 cars, 2 trucks, 3 vans, 2638.5ms\n",
            "Speed: 4.3ms preprocess, 2638.5ms inference, 1.2ms postprocess per image at shape (1, 3, 384, 640)\n",
            "\n",
            "0: 384x640 3 buss, 88 cars, 2 trucks, 3 vans, 2506.6ms\n",
            "Speed: 4.8ms preprocess, 2506.6ms inference, 1.4ms postprocess per image at shape (1, 3, 384, 640)\n",
            "\n",
            "0: 384x640 3 buss, 89 cars, 2 trucks, 2 vans, 2743.4ms\n",
            "Speed: 4.7ms preprocess, 2743.4ms inference, 1.5ms postprocess per image at shape (1, 3, 384, 640)\n",
            "\n",
            "0: 384x640 3 buss, 89 cars, 2 trucks, 2 vans, 3622.4ms\n",
            "Speed: 4.5ms preprocess, 3622.4ms inference, 1.3ms postprocess per image at shape (1, 3, 384, 640)\n",
            "\n",
            "0: 384x640 3 buss, 89 cars, 2 trucks, 2 vans, 2620.0ms\n",
            "Speed: 5.4ms preprocess, 2620.0ms inference, 1.2ms postprocess per image at shape (1, 3, 384, 640)\n",
            "\n",
            "0: 384x640 3 buss, 88 cars, 2 trucks, 3 vans, 2605.8ms\n",
            "Speed: 5.9ms preprocess, 2605.8ms inference, 1.2ms postprocess per image at shape (1, 3, 384, 640)\n",
            "\n",
            "0: 384x640 3 buss, 88 cars, 2 trucks, 3 vans, 2602.4ms\n",
            "Speed: 4.2ms preprocess, 2602.4ms inference, 1.4ms postprocess per image at shape (1, 3, 384, 640)\n",
            "\n",
            "0: 384x640 3 buss, 88 cars, 2 trucks, 3 vans, 3893.8ms\n",
            "Speed: 4.4ms preprocess, 3893.8ms inference, 1.4ms postprocess per image at shape (1, 3, 384, 640)\n",
            "\n",
            "0: 384x640 3 buss, 88 cars, 2 trucks, 3 vans, 2541.1ms\n",
            "Speed: 4.1ms preprocess, 2541.1ms inference, 1.7ms postprocess per image at shape (1, 3, 384, 640)\n",
            "\n",
            "0: 384x640 3 buss, 88 cars, 2 trucks, 3 vans, 2577.6ms\n",
            "Speed: 4.3ms preprocess, 2577.6ms inference, 1.3ms postprocess per image at shape (1, 3, 384, 640)\n",
            "\n",
            "0: 384x640 3 buss, 88 cars, 2 trucks, 3 vans, 2555.6ms\n",
            "Speed: 3.9ms preprocess, 2555.6ms inference, 1.3ms postprocess per image at shape (1, 3, 384, 640)\n",
            "\n",
            "0: 384x640 3 buss, 89 cars, 2 trucks, 3 vans, 3441.3ms\n",
            "Speed: 4.4ms preprocess, 3441.3ms inference, 1.9ms postprocess per image at shape (1, 3, 384, 640)\n",
            "\n",
            "0: 384x640 3 buss, 89 cars, 2 trucks, 3 vans, 2785.6ms\n",
            "Speed: 7.0ms preprocess, 2785.6ms inference, 1.4ms postprocess per image at shape (1, 3, 384, 640)\n",
            "\n",
            "0: 384x640 3 buss, 89 cars, 2 trucks, 3 vans, 2565.6ms\n",
            "Speed: 4.6ms preprocess, 2565.6ms inference, 1.3ms postprocess per image at shape (1, 3, 384, 640)\n",
            "\n",
            "0: 384x640 3 buss, 89 cars, 2 trucks, 3 vans, 2566.6ms\n",
            "Speed: 4.6ms preprocess, 2566.6ms inference, 1.3ms postprocess per image at shape (1, 3, 384, 640)\n",
            "\n",
            "0: 384x640 3 buss, 89 cars, 2 trucks, 3 vans, 3036.3ms\n",
            "Speed: 4.6ms preprocess, 3036.3ms inference, 1.7ms postprocess per image at shape (1, 3, 384, 640)\n",
            "\n",
            "0: 384x640 3 buss, 89 cars, 2 trucks, 3 vans, 3379.9ms\n",
            "Speed: 4.8ms preprocess, 3379.9ms inference, 1.5ms postprocess per image at shape (1, 3, 384, 640)\n",
            "\n",
            "0: 384x640 3 buss, 89 cars, 2 trucks, 3 vans, 2602.1ms\n",
            "Speed: 5.0ms preprocess, 2602.1ms inference, 2.2ms postprocess per image at shape (1, 3, 384, 640)\n",
            "\n",
            "0: 384x640 3 buss, 89 cars, 2 trucks, 3 vans, 2581.7ms\n",
            "Speed: 3.8ms preprocess, 2581.7ms inference, 1.4ms postprocess per image at shape (1, 3, 384, 640)\n",
            "\n",
            "0: 384x640 3 buss, 89 cars, 2 trucks, 3 vans, 2501.4ms\n",
            "Speed: 8.1ms preprocess, 2501.4ms inference, 1.3ms postprocess per image at shape (1, 3, 384, 640)\n",
            "\n",
            "0: 384x640 3 buss, 89 cars, 2 trucks, 3 vans, 3870.0ms\n",
            "Speed: 5.2ms preprocess, 3870.0ms inference, 1.3ms postprocess per image at shape (1, 3, 384, 640)\n",
            "\n",
            "0: 384x640 3 buss, 89 cars, 2 trucks, 3 vans, 2578.2ms\n",
            "Speed: 5.7ms preprocess, 2578.2ms inference, 1.3ms postprocess per image at shape (1, 3, 384, 640)\n",
            "\n",
            "0: 384x640 3 buss, 90 cars, 2 trucks, 3 vans, 2568.0ms\n",
            "Speed: 4.5ms preprocess, 2568.0ms inference, 1.3ms postprocess per image at shape (1, 3, 384, 640)\n",
            "\n",
            "0: 384x640 3 buss, 90 cars, 2 trucks, 3 vans, 2562.3ms\n",
            "Speed: 4.5ms preprocess, 2562.3ms inference, 1.3ms postprocess per image at shape (1, 3, 384, 640)\n",
            "\n",
            "0: 384x640 3 buss, 91 cars, 2 trucks, 2 vans, 3755.8ms\n",
            "Speed: 4.5ms preprocess, 3755.8ms inference, 1.7ms postprocess per image at shape (1, 3, 384, 640)\n",
            "\n",
            "0: 384x640 3 buss, 91 cars, 2 trucks, 2 vans, 2578.6ms\n",
            "Speed: 4.5ms preprocess, 2578.6ms inference, 1.3ms postprocess per image at shape (1, 3, 384, 640)\n",
            "\n",
            "0: 384x640 4 buss, 91 cars, 1 truck, 2 vans, 2607.8ms\n",
            "Speed: 4.8ms preprocess, 2607.8ms inference, 1.9ms postprocess per image at shape (1, 3, 384, 640)\n",
            "\n",
            "0: 384x640 4 buss, 89 cars, 1 truck, 3 vans, 2470.1ms\n",
            "Speed: 3.8ms preprocess, 2470.1ms inference, 1.2ms postprocess per image at shape (1, 3, 384, 640)\n",
            "\n",
            "0: 384x640 3 buss, 91 cars, 1 truck, 2 vans, 3116.0ms\n",
            "Speed: 4.0ms preprocess, 3116.0ms inference, 1.4ms postprocess per image at shape (1, 3, 384, 640)\n",
            "\n",
            "0: 384x640 3 buss, 91 cars, 1 truck, 2 vans, 3194.0ms\n",
            "Speed: 4.4ms preprocess, 3194.0ms inference, 1.4ms postprocess per image at shape (1, 3, 384, 640)\n",
            "\n",
            "0: 384x640 4 buss, 90 cars, 1 truck, 2 vans, 2543.9ms\n",
            "Speed: 4.7ms preprocess, 2543.9ms inference, 1.8ms postprocess per image at shape (1, 3, 384, 640)\n",
            "\n",
            "0: 384x640 4 buss, 90 cars, 1 truck, 2 vans, 2498.8ms\n",
            "Speed: 4.1ms preprocess, 2498.8ms inference, 1.1ms postprocess per image at shape (1, 3, 384, 640)\n",
            "\n",
            "0: 384x640 3 buss, 90 cars, 2 trucks, 2 vans, 2483.0ms\n",
            "Speed: 3.9ms preprocess, 2483.0ms inference, 1.1ms postprocess per image at shape (1, 3, 384, 640)\n",
            "\n",
            "0: 384x640 3 buss, 90 cars, 2 trucks, 2 vans, 3868.4ms\n",
            "Speed: 4.7ms preprocess, 3868.4ms inference, 1.3ms postprocess per image at shape (1, 3, 384, 640)\n",
            "\n",
            "0: 384x640 3 buss, 91 cars, 1 truck, 2 vans, 2700.3ms\n",
            "Speed: 3.5ms preprocess, 2700.3ms inference, 1.2ms postprocess per image at shape (1, 3, 384, 640)\n",
            "\n",
            "0: 384x640 3 buss, 91 cars, 1 truck, 2 vans, 2595.7ms\n",
            "Speed: 4.5ms preprocess, 2595.7ms inference, 1.6ms postprocess per image at shape (1, 3, 384, 640)\n",
            "\n",
            "0: 384x640 3 buss, 91 cars, 1 truck, 2 vans, 2560.7ms\n",
            "Speed: 4.6ms preprocess, 2560.7ms inference, 1.5ms postprocess per image at shape (1, 3, 384, 640)\n",
            "\n",
            "0: 384x640 3 buss, 91 cars, 1 truck, 2 vans, 3835.6ms\n",
            "Speed: 3.6ms preprocess, 3835.6ms inference, 1.9ms postprocess per image at shape (1, 3, 384, 640)\n",
            "\n",
            "0: 384x640 3 buss, 90 cars, 1 truck, 2 vans, 2639.4ms\n",
            "Speed: 4.2ms preprocess, 2639.4ms inference, 1.3ms postprocess per image at shape (1, 3, 384, 640)\n",
            "\n",
            "0: 384x640 3 buss, 89 cars, 1 truck, 3 vans, 2562.1ms\n",
            "Speed: 4.5ms preprocess, 2562.1ms inference, 1.5ms postprocess per image at shape (1, 3, 384, 640)\n",
            "\n",
            "0: 384x640 3 buss, 89 cars, 1 truck, 3 vans, 2535.2ms\n",
            "Speed: 3.8ms preprocess, 2535.2ms inference, 1.4ms postprocess per image at shape (1, 3, 384, 640)\n",
            "\n",
            "0: 384x640 3 buss, 89 cars, 1 truck, 3 vans, 3285.4ms\n",
            "Speed: 3.7ms preprocess, 3285.4ms inference, 1.8ms postprocess per image at shape (1, 3, 384, 640)\n",
            "\n",
            "0: 384x640 3 buss, 88 cars, 1 truck, 4 vans, 3054.5ms\n",
            "Speed: 4.4ms preprocess, 3054.5ms inference, 1.7ms postprocess per image at shape (1, 3, 384, 640)\n",
            "\n",
            "0: 384x640 3 buss, 87 cars, 1 truck, 5 vans, 2551.5ms\n",
            "Speed: 4.5ms preprocess, 2551.5ms inference, 1.4ms postprocess per image at shape (1, 3, 384, 640)\n",
            "\n",
            "0: 384x640 3 buss, 87 cars, 1 truck, 5 vans, 2602.8ms\n",
            "Speed: 4.4ms preprocess, 2602.8ms inference, 1.4ms postprocess per image at shape (1, 3, 384, 640)\n",
            "\n",
            "0: 384x640 3 buss, 87 cars, 1 truck, 5 vans, 2927.4ms\n",
            "Speed: 4.3ms preprocess, 2927.4ms inference, 1.6ms postprocess per image at shape (1, 3, 384, 640)\n",
            "\n",
            "0: 384x640 3 buss, 87 cars, 1 truck, 5 vans, 3478.5ms\n",
            "Speed: 4.3ms preprocess, 3478.5ms inference, 1.4ms postprocess per image at shape (1, 3, 384, 640)\n",
            "\n",
            "0: 384x640 3 buss, 87 cars, 1 truck, 5 vans, 2563.4ms\n",
            "Speed: 5.6ms preprocess, 2563.4ms inference, 1.2ms postprocess per image at shape (1, 3, 384, 640)\n",
            "\n",
            "0: 384x640 3 buss, 87 cars, 1 truck, 4 vans, 2539.5ms\n",
            "Speed: 3.8ms preprocess, 2539.5ms inference, 1.2ms postprocess per image at shape (1, 3, 384, 640)\n",
            "\n",
            "0: 384x640 3 buss, 86 cars, 2 trucks, 4 vans, 2566.4ms\n",
            "Speed: 4.2ms preprocess, 2566.4ms inference, 1.3ms postprocess per image at shape (1, 3, 384, 640)\n",
            "\n",
            "0: 384x640 3 buss, 86 cars, 2 trucks, 4 vans, 3901.8ms\n",
            "Speed: 4.1ms preprocess, 3901.8ms inference, 1.4ms postprocess per image at shape (1, 3, 384, 640)\n",
            "\n",
            "0: 384x640 4 buss, 87 cars, 1 truck, 4 vans, 2539.0ms\n",
            "Speed: 5.7ms preprocess, 2539.0ms inference, 1.3ms postprocess per image at shape (1, 3, 384, 640)\n",
            "\n",
            "0: 384x640 4 buss, 86 cars, 1 truck, 5 vans, 2622.2ms\n",
            "Speed: 5.1ms preprocess, 2622.2ms inference, 1.5ms postprocess per image at shape (1, 3, 384, 640)\n",
            "\n",
            "0: 384x640 4 buss, 89 cars, 1 truck, 4 vans, 2599.1ms\n",
            "Speed: 6.7ms preprocess, 2599.1ms inference, 1.3ms postprocess per image at shape (1, 3, 384, 640)\n",
            "\n",
            "0: 384x640 4 buss, 90 cars, 1 truck, 4 vans, 3640.9ms\n",
            "Speed: 5.0ms preprocess, 3640.9ms inference, 1.7ms postprocess per image at shape (1, 3, 384, 640)\n",
            "\n",
            "0: 384x640 4 buss, 89 cars, 1 truck, 4 vans, 2714.7ms\n",
            "Speed: 8.8ms preprocess, 2714.7ms inference, 1.3ms postprocess per image at shape (1, 3, 384, 640)\n",
            "\n",
            "0: 384x640 4 buss, 89 cars, 1 truck, 4 vans, 2622.0ms\n",
            "Speed: 3.8ms preprocess, 2622.0ms inference, 1.3ms postprocess per image at shape (1, 3, 384, 640)\n",
            "\n",
            "0: 384x640 4 buss, 89 cars, 1 truck, 4 vans, 2632.9ms\n",
            "Speed: 5.2ms preprocess, 2632.9ms inference, 1.2ms postprocess per image at shape (1, 3, 384, 640)\n",
            "\n",
            "0: 384x640 3 buss, 88 cars, 1 truck, 5 vans, 3301.6ms\n",
            "Speed: 3.4ms preprocess, 3301.6ms inference, 1.7ms postprocess per image at shape (1, 3, 384, 640)\n",
            "\n",
            "0: 384x640 3 buss, 88 cars, 1 truck, 5 vans, 3096.1ms\n",
            "Speed: 6.1ms preprocess, 3096.1ms inference, 1.3ms postprocess per image at shape (1, 3, 384, 640)\n",
            "\n",
            "0: 384x640 3 buss, 89 cars, 1 truck, 4 vans, 2656.7ms\n",
            "Speed: 6.7ms preprocess, 2656.7ms inference, 1.3ms postprocess per image at shape (1, 3, 384, 640)\n",
            "\n",
            "0: 384x640 3 buss, 90 cars, 1 truck, 3 vans, 2631.4ms\n",
            "Speed: 5.9ms preprocess, 2631.4ms inference, 1.5ms postprocess per image at shape (1, 3, 384, 640)\n",
            "\n",
            "0: 384x640 3 buss, 90 cars, 1 truck, 3 vans, 2844.0ms\n",
            "Speed: 3.9ms preprocess, 2844.0ms inference, 1.7ms postprocess per image at shape (1, 3, 384, 640)\n",
            "\n",
            "0: 384x640 3 buss, 91 cars, 1 truck, 3 vans, 3500.5ms\n",
            "Speed: 9.9ms preprocess, 3500.5ms inference, 1.3ms postprocess per image at shape (1, 3, 384, 640)\n",
            "\n",
            "0: 384x640 3 buss, 91 cars, 1 truck, 3 vans, 2655.2ms\n",
            "Speed: 4.7ms preprocess, 2655.2ms inference, 1.2ms postprocess per image at shape (1, 3, 384, 640)\n",
            "\n",
            "0: 384x640 3 buss, 91 cars, 1 truck, 3 vans, 2553.5ms\n",
            "Speed: 4.6ms preprocess, 2553.5ms inference, 1.2ms postprocess per image at shape (1, 3, 384, 640)\n",
            "\n",
            "0: 384x640 3 buss, 91 cars, 1 truck, 3 vans, 2505.3ms\n",
            "Speed: 3.7ms preprocess, 2505.3ms inference, 1.4ms postprocess per image at shape (1, 3, 384, 640)\n",
            "\n",
            "0: 384x640 3 buss, 91 cars, 1 truck, 3 vans, 3910.4ms\n",
            "Speed: 5.0ms preprocess, 3910.4ms inference, 1.3ms postprocess per image at shape (1, 3, 384, 640)\n",
            "\n",
            "0: 384x640 3 buss, 91 cars, 1 truck, 3 vans, 2616.7ms\n",
            "Speed: 4.1ms preprocess, 2616.7ms inference, 1.3ms postprocess per image at shape (1, 3, 384, 640)\n",
            "\n",
            "0: 384x640 3 buss, 91 cars, 1 truck, 3 vans, 2610.4ms\n",
            "Speed: 4.1ms preprocess, 2610.4ms inference, 1.2ms postprocess per image at shape (1, 3, 384, 640)\n",
            "\n",
            "0: 384x640 3 buss, 91 cars, 1 truck, 3 vans, 2610.1ms\n",
            "Speed: 3.9ms preprocess, 2610.1ms inference, 1.2ms postprocess per image at shape (1, 3, 384, 640)\n",
            "\n",
            "0: 384x640 3 buss, 89 cars, 1 truck, 5 vans, 3686.5ms\n",
            "Speed: 4.2ms preprocess, 3686.5ms inference, 1.8ms postprocess per image at shape (1, 3, 384, 640)\n",
            "\n",
            "0: 384x640 3 buss, 89 cars, 1 truck, 5 vans, 2624.4ms\n",
            "Speed: 7.5ms preprocess, 2624.4ms inference, 1.3ms postprocess per image at shape (1, 3, 384, 640)\n",
            "\n",
            "0: 384x640 3 buss, 90 cars, 1 truck, 5 vans, 2563.7ms\n",
            "Speed: 5.9ms preprocess, 2563.7ms inference, 1.2ms postprocess per image at shape (1, 3, 384, 640)\n",
            "\n",
            "0: 384x640 3 buss, 91 cars, 1 truck, 3 vans, 2549.0ms\n",
            "Speed: 6.1ms preprocess, 2549.0ms inference, 1.3ms postprocess per image at shape (1, 3, 384, 640)\n",
            "\n",
            "0: 384x640 3 buss, 90 cars, 1 truck, 4 vans, 3089.8ms\n",
            "Speed: 9.0ms preprocess, 3089.8ms inference, 1.7ms postprocess per image at shape (1, 3, 384, 640)\n",
            "\n",
            "0: 384x640 3 buss, 90 cars, 1 truck, 4 vans, 3259.2ms\n",
            "Speed: 10.6ms preprocess, 3259.2ms inference, 1.3ms postprocess per image at shape (1, 3, 384, 640)\n",
            "\n",
            "0: 384x640 3 buss, 90 cars, 1 truck, 4 vans, 2606.9ms\n",
            "Speed: 5.7ms preprocess, 2606.9ms inference, 1.3ms postprocess per image at shape (1, 3, 384, 640)\n",
            "\n",
            "0: 384x640 3 buss, 92 cars, 1 truck, 4 vans, 2607.4ms\n",
            "Speed: 4.4ms preprocess, 2607.4ms inference, 1.2ms postprocess per image at shape (1, 3, 384, 640)\n",
            "\n",
            "0: 384x640 3 buss, 93 cars, 1 truck, 3 vans, 2653.4ms\n",
            "Speed: 4.0ms preprocess, 2653.4ms inference, 1.4ms postprocess per image at shape (1, 3, 384, 640)\n",
            "\n",
            "0: 384x640 3 buss, 92 cars, 1 truck, 3 vans, 3723.9ms\n",
            "Speed: 4.6ms preprocess, 3723.9ms inference, 1.3ms postprocess per image at shape (1, 3, 384, 640)\n",
            "\n",
            "0: 384x640 3 buss, 91 cars, 1 truck, 4 vans, 2622.4ms\n",
            "Speed: 5.5ms preprocess, 2622.4ms inference, 1.6ms postprocess per image at shape (1, 3, 384, 640)\n",
            "\n",
            "0: 384x640 3 buss, 92 cars, 1 truck, 3 vans, 2610.0ms\n",
            "Speed: 3.3ms preprocess, 2610.0ms inference, 1.3ms postprocess per image at shape (1, 3, 384, 640)\n",
            "\n",
            "0: 384x640 3 buss, 92 cars, 1 truck, 3 vans, 2650.2ms\n",
            "Speed: 6.0ms preprocess, 2650.2ms inference, 1.4ms postprocess per image at shape (1, 3, 384, 640)\n",
            "\n",
            "0: 384x640 3 buss, 92 cars, 1 truck, 3 vans, 3909.4ms\n",
            "Speed: 4.0ms preprocess, 3909.4ms inference, 1.4ms postprocess per image at shape (1, 3, 384, 640)\n",
            "\n",
            "0: 384x640 3 buss, 91 cars, 1 truck, 4 vans, 2629.2ms\n",
            "Speed: 4.4ms preprocess, 2629.2ms inference, 1.3ms postprocess per image at shape (1, 3, 384, 640)\n",
            "\n",
            "0: 384x640 3 buss, 91 cars, 1 truck, 4 vans, 2637.7ms\n",
            "Speed: 5.2ms preprocess, 2637.7ms inference, 1.2ms postprocess per image at shape (1, 3, 384, 640)\n",
            "\n",
            "0: 384x640 3 buss, 91 cars, 1 truck, 4 vans, 2609.7ms\n",
            "Speed: 4.0ms preprocess, 2609.7ms inference, 1.3ms postprocess per image at shape (1, 3, 384, 640)\n",
            "\n",
            "0: 384x640 3 buss, 92 cars, 1 truck, 3 vans, 3688.7ms\n",
            "Speed: 4.2ms preprocess, 3688.7ms inference, 1.9ms postprocess per image at shape (1, 3, 384, 640)\n",
            "\n",
            "0: 384x640 3 buss, 92 cars, 1 truck, 3 vans, 2682.9ms\n",
            "Speed: 9.7ms preprocess, 2682.9ms inference, 1.5ms postprocess per image at shape (1, 3, 384, 640)\n",
            "\n",
            "0: 384x640 3 buss, 92 cars, 1 truck, 3 vans, 2635.0ms\n",
            "Speed: 4.5ms preprocess, 2635.0ms inference, 1.4ms postprocess per image at shape (1, 3, 384, 640)\n",
            "\n",
            "0: 384x640 3 buss, 91 cars, 1 truck, 4 vans, 2640.9ms\n",
            "Speed: 4.6ms preprocess, 2640.9ms inference, 1.4ms postprocess per image at shape (1, 3, 384, 640)\n",
            "\n"
          ]
        }
      ],
      "source": [
        "while cap.isOpened():\n",
        "    success, im0 = cap.read()\n",
        "    if not success:\n",
        "        print(\"Video frame is empty or video processing has been successfully completed.\")\n",
        "        break\n",
        "    tracks = model.track(im0, persist=True, show=False)\n",
        "\n",
        "    im0 = counter.start_counting(im0, tracks)\n",
        "    video_writer.write(im0)\n",
        "\n",
        "    im0 = counter1.start_counting(im0, tracks)\n",
        "    video_writer.write(im0)\n",
        "\n",
        "    im0 = counter2.start_counting(im0, tracks)\n",
        "    video_writer.write(im0)\n",
        "\n",
        "    im0 = counter3.start_counting(im0, tracks)\n",
        "    video_writer.write(im0)\n",
        "\n",
        "cap.release()\n",
        "video_writer.release()\n",
        "cv2.destroyAllWindows()"
      ]
    },
    {
      "cell_type": "markdown",
      "id": "71d3083e",
      "metadata": {
        "id": "71d3083e"
      },
      "source": [
        "## Save and Submit Your Work"
      ]
    },
    {
      "cell_type": "markdown",
      "id": "ae5e33ac",
      "metadata": {
        "id": "ae5e33ac"
      },
      "source": [
        "Submit both the notebook and the output video"
      ]
    }
  ],
  "metadata": {
    "language_info": {
      "name": "python"
    },
    "colab": {
      "provenance": []
    },
    "kernelspec": {
      "name": "python3",
      "display_name": "Python 3"
    }
  },
  "nbformat": 4,
  "nbformat_minor": 5
}