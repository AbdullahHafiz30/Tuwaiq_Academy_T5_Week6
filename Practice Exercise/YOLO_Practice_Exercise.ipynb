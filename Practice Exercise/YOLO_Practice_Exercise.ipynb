{
 "cells": [
  {
   "cell_type": "markdown",
   "id": "fd8284c7",
   "metadata": {},
   "source": [
    "# Highway Vehicle Counting Practice Exercise\n"
   ]
  },
  {
   "cell_type": "markdown",
   "id": "90e8c1a5",
   "metadata": {},
   "source": [
    "In this exercise, you will use the YOLO (You Only Look Once) object detection model to analyze a video of highway traffic. \n",
    "Your task is to count the number of cars that are leaving the highway (coming toward the camera) on the right side and the number of cars that are joining the road on the left side. The video can be found under `Datasets/Example.mp4`.\n",
    "\n",
    "## Objectives\n",
    "- Load and process a video using OpenCV.\n",
    "- Use the YOLO model to detect vehicles in each frame.\n",
    "- Use OpenCV to manulate the video.\n",
    "- Track vehicles as they move through the video frames.\n",
    "- Count the number of vehicles leaving the highway on the right side.\n",
    "- Count the number of vehicles joining the road on the left side."
   ]
  },
  {
   "cell_type": "markdown",
   "id": "c7269b0e",
   "metadata": {},
   "source": [
    "## Setup Environment"
   ]
  },
  {
   "cell_type": "markdown",
   "id": "2fd3bce8",
   "metadata": {},
   "source": [
    "Before you begin, ensure you have the necessary libraries installed. You will need `opencv`, and `ultralytics` among others. \n",
    "If these are not installed, you should install them."
   ]
  },
  {
   "cell_type": "code",
   "execution_count": null,
   "id": "e48a05c4",
   "metadata": {
    "vscode": {
     "languageId": "plaintext"
    }
   },
   "outputs": [],
   "source": []
  },
  {
   "cell_type": "markdown",
   "id": "a69c2ac2",
   "metadata": {},
   "source": [
    "## Load the YOLO Model"
   ]
  },
  {
   "cell_type": "markdown",
   "id": "145d70fc",
   "metadata": {},
   "source": [
    "You will first need to load the YOLO model. You can use a pre-trained YOLO model for this task. \n",
    "Write the code to load the YOLO model below:\n"
   ]
  },
  {
   "cell_type": "code",
   "execution_count": null,
   "id": "7e580e4a",
   "metadata": {
    "vscode": {
     "languageId": "plaintext"
    }
   },
   "outputs": [],
   "source": []
  },
  {
   "cell_type": "markdown",
   "id": "cf691ac8",
   "metadata": {},
   "source": [
    "## Prepare the Video Capture"
   ]
  },
  {
   "cell_type": "markdown",
   "metadata": {},
   "source": [
    "Create a variable to capture the video frames, you can use `cv2.VideoCapture()` to achive this."
   ]
  },
  {
   "cell_type": "code",
   "execution_count": null,
   "id": "81cfbca1",
   "metadata": {
    "vscode": {
     "languageId": "plaintext"
    }
   },
   "outputs": [],
   "source": []
  },
  {
   "cell_type": "markdown",
   "id": "48757309",
   "metadata": {},
   "source": [
    "## Get Video Information"
   ]
  },
  {
   "cell_type": "markdown",
   "id": "b4f5d5bc",
   "metadata": {},
   "source": [
    "You can use `cv2` library to get these information fro the `VideoCapture()` variable you created to extract these information:\n",
    "* `height`: Video's height.\n",
    "* `width`: Video's width.\n",
    "* `fps`: Video's frames."
   ]
  },
  {
   "cell_type": "code",
   "execution_count": null,
   "id": "cb8e5ceb",
   "metadata": {
    "vscode": {
     "languageId": "plaintext"
    }
   },
   "outputs": [],
   "source": []
  },
  {
   "cell_type": "markdown",
   "id": "3f241495",
   "metadata": {},
   "source": [
    "## Prepare Video Writer to Store the Output"
   ]
  },
  {
   "cell_type": "markdown",
   "id": "9ef61a34",
   "metadata": {},
   "source": [
    "Create a variable that uses `cv2.VideoCapture()` to save the video with the bounding boxes and the counted cars on both sides. You will need to make the video with the same `fps`, `width`, `height`, and specify the codec and output path of the video."
   ]
  },
  {
   "cell_type": "code",
   "execution_count": null,
   "id": "449562c2",
   "metadata": {
    "vscode": {
     "languageId": "plaintext"
    }
   },
   "outputs": [],
   "source": []
  },
  {
   "cell_type": "markdown",
   "id": "067dbc12",
   "metadata": {},
   "source": [
    "## Process Video Frames and Identify Vehicles on the Right and Left Sides"
   ]
  },
  {
   "cell_type": "markdown",
   "id": "aa695d88",
   "metadata": {},
   "source": [
    "For each frame in the video, use the YOLO model to detect and track vehicles. You'll need to write a loop that processes each frame and applies the YOLO model.\n",
    "In each frame, after detecting the vehicles, determine whether they are on the left or right side of the highway. \n",
    "You can use the position of the bounding boxes provided by YOLO to do this.\n",
    "* The video should display bounding boxes around the detected objects.\n",
    "* The video should display the confidence along side with the object id and class id of each detected and tracked object.\n",
    "* The video display the number of vehicles on the left side.\n",
    "* The video display the number of vehicles on the right side.\n",
    "* The video should display the line in which you counted the objects that have crossed it and counted. "
   ]
  },
  {
   "cell_type": "code",
   "execution_count": null,
   "id": "877d1d56",
   "metadata": {
    "vscode": {
     "languageId": "plaintext"
    }
   },
   "outputs": [],
   "source": []
  },
  {
   "cell_type": "markdown",
   "id": "71d3083e",
   "metadata": {},
   "source": [
    "## Save and Submit Your Work"
   ]
  },
  {
   "cell_type": "markdown",
   "id": "ae5e33ac",
   "metadata": {},
   "source": [
    "In the actual exam you will be asked to submit both the notebook and the output video"
   ]
  }
 ],
 "metadata": {
  "language_info": {
   "name": "python"
  }
 },
 "nbformat": 4,
 "nbformat_minor": 5
}
