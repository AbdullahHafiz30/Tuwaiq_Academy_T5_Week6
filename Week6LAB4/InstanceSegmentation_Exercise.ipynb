{
  "nbformat": 4,
  "nbformat_minor": 0,
  "metadata": {
    "colab": {
      "provenance": []
    },
    "kernelspec": {
      "name": "python3",
      "display_name": "Python 3"
    },
    "language_info": {
      "name": "python"
    }
  },
  "cells": [
    {
      "cell_type": "markdown",
      "source": [
        "# Simple Instance Segmentation with RCNN Tutorial\n"
      ],
      "metadata": {
        "id": "SWM52wWw-2t6"
      }
    },
    {
      "cell_type": "markdown",
      "source": [
        "## Step 1: Setup Environment\n"
      ],
      "metadata": {
        "id": "XFP-lfL--8KZ"
      }
    },
    {
      "cell_type": "code",
      "execution_count": 6,
      "metadata": {
        "id": "58H5PyWK8eQ-"
      },
      "outputs": [],
      "source": []
    },
    {
      "cell_type": "markdown",
      "source": [
        "## Step 2: Load Pretrained Model\n"
      ],
      "metadata": {
        "id": "nPlf3onN-_y1"
      }
    },
    {
      "cell_type": "code",
      "source": [],
      "metadata": {
        "id": "zO4i4pU384e2"
      },
      "execution_count": 6,
      "outputs": []
    },
    {
      "cell_type": "markdown",
      "source": [
        "## Step 3: Prepare the Input Image\n",
        "use this image : 1678598671986.jpeg (uploaded in the drive)"
      ],
      "metadata": {
        "id": "SuqZNS7v_D6M"
      }
    },
    {
      "cell_type": "code",
      "source": [],
      "metadata": {
        "id": "iAnp48ZE9B6o"
      },
      "execution_count": 6,
      "outputs": []
    },
    {
      "cell_type": "markdown",
      "source": [
        "## Step 4: Perform Instance Segmentation\n"
      ],
      "metadata": {
        "id": "FK4hLeA9_H07"
      }
    },
    {
      "cell_type": "code",
      "source": [],
      "metadata": {
        "id": "XcCShW189gS6"
      },
      "execution_count": 6,
      "outputs": []
    },
    {
      "cell_type": "markdown",
      "source": [
        "## Step 5: Visualize the Results\n"
      ],
      "metadata": {
        "id": "nkvM3Mae_JpC"
      }
    },
    {
      "cell_type": "code",
      "source": [],
      "metadata": {
        "id": "nJFcAnHd9iNz"
      },
      "execution_count": 6,
      "outputs": []
    }
  ]
}